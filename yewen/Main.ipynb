{
 "cells": [
  {
   "cell_type": "code",
   "execution_count": 1,
   "metadata": {
    "collapsed": true
   },
   "outputs": [],
   "source": [
    "import pandas as pd\n",
    "import numpy as np\n",
    "import os\n",
    "import csv\n",
    "import matplotlib.pyplot as plt"
   ]
  },
  {
   "cell_type": "code",
   "execution_count": 2,
   "metadata": {
    "collapsed": true
   },
   "outputs": [],
   "source": [
    "# load result and acc\n",
    "\n",
    "res1 = pd.read_csv(\"./results/xpc_1.csv\")\n",
    "res1new = res1.iloc[:,1:]\n",
    "rmse1 = 1.14942\n",
    "\n",
    "\n",
    "\n",
    "res2 = pd.read_csv(\"./results/xzp_1.csv\")\n",
    "res2new = res2.iloc[:,1:]\n",
    "rmse2 = 1.20108\n",
    "\n",
    "\n",
    "res3 = pd.read_csv(\"./results/js_1.csv\")\n",
    "res3new = res3.iloc[:,1:]\n",
    "rmse3 = 1.26192\n",
    "\n",
    "\n",
    "res4 = pd.read_csv(\"./results/js_2.csv\")\n",
    "res4new = res4.iloc[:,1:]\n",
    "rmse4 = 1.263\n",
    "\n",
    "res5 = pd.read_csv(\"./results/xpc_2.csv\")\n",
    "res5new = res5.iloc[:,1:]\n",
    "rmse5 = 1.1686\n"
   ]
  },
  {
   "cell_type": "code",
   "execution_count": 3,
   "metadata": {
    "collapsed": true
   },
   "outputs": [],
   "source": [
    "# # print(res1)\n",
    "# print(res1new)\n",
    "# # print(res2)\n",
    "# print(res2new)\n",
    "# # print(res3)\n",
    "# print(res3new)"
   ]
  },
  {
   "cell_type": "code",
   "execution_count": 11,
   "metadata": {
    "collapsed": true
   },
   "outputs": [],
   "source": [
    "# Ensemble\n",
    "\n",
    "\n",
    "# weight\n",
    "# w = 1/rmse1+1/rmse2+1/rmse3+1/rmse4\n",
    "# w = 1/rmse1+1/rmse2\n",
    "\n",
    "# w1 = 1/rmse1/w\n",
    "# w2 = 1/rmse2/w\n",
    "# w3 = 1/rmse3/w\n",
    "# w4 = 1/rmse4/w\n",
    "\n",
    "w1 = 0.2\n",
    "w2 = 0.1\n",
    "w3 = 0.2\n",
    "w4 = 0\n",
    "w5 = 0.5\n",
    "\n",
    "# result: type1\n",
    "res = np.zeros(50078)\n",
    "\n",
    "for i in range(50078):\n",
    "#     res[i] = res1new.iloc[i]*w1 + res2new.iloc[i]*w2 \n",
    "#     res[i] = res1new.iloc[i]*w1 + res2new.iloc[i]*w2 + res3new.iloc[i]*w3 + res4new.iloc[i]*w4 + res5new.iloc[i]*w5\n",
    "    res[i] = res1new.iloc[i]*w1 + res2new.iloc[i]*w2 + res3new.iloc[i]*w3 + res5new.iloc[i]*w5\n",
    "\n",
    "\n",
    "    \n",
    "    "
   ]
  },
  {
   "cell_type": "code",
   "execution_count": 12,
   "metadata": {},
   "outputs": [
    {
     "name": "stdout",
     "output_type": "stream",
     "text": [
      "stars   NaN\n",
      "Name: 50077, dtype: float64\n",
      "4.409260133908098\n",
      "done1\n"
     ]
    }
   ],
   "source": [
    "# print(res4new.iloc[50077])\n",
    "print(res[50077])\n",
    "finalres = pd.DataFrame(res,columns = {'stars'})\n",
    "finalres.to_csv(\"finalresult.csv\")\n",
    "print(\"done1\")\n"
   ]
  },
  {
   "cell_type": "code",
   "execution_count": 19,
   "metadata": {
    "collapsed": true
   },
   "outputs": [],
   "source": [
    "# # Ensemble\n",
    "\n",
    "\n",
    "# # result: type1\n",
    "# res2 = np.zeros(50078)\n",
    "# for i in range(50078):\n",
    "#     res2[i] = res1new.iloc[i] + res2new.iloc[i] + res3new.iloc[i]\n"
   ]
  },
  {
   "cell_type": "code",
   "execution_count": 20,
   "metadata": {},
   "outputs": [
    {
     "name": "stdout",
     "output_type": "stream",
     "text": [
      "done\n"
     ]
    }
   ],
   "source": [
    "# finalres2 = pd.DataFrame(res,columns = {'stars'})\n",
    "# finalres2.to_csv(\"finalresult2.csv\")\n",
    "# print(\"done\")"
   ]
  },
  {
   "cell_type": "code",
   "execution_count": 21,
   "metadata": {
    "collapsed": true
   },
   "outputs": [],
   "source": [
    "# # Ensemble2\n",
    "\n",
    "\n",
    "\n",
    "\n",
    "# # result: type2\n",
    "# tmp2 = np.zeros((50078,3))\n",
    "# for i in range(50078):\n",
    "#     tmp2[i][0] = res1new.iloc[i]\n",
    "#     tmp2[i][1] = res2new.iloc[i]\n",
    "#     tmp2[i][2] = res3new.iloc[i]\n",
    "\n",
    "   \n"
   ]
  },
  {
   "cell_type": "code",
   "execution_count": 22,
   "metadata": {
    "collapsed": true
   },
   "outputs": [],
   "source": [
    "# from sklearn import datasets\n",
    "# from sklearn.linear_model import LinearRegression\n",
    "# from sklearn.metrics import mean_squared_error\n",
    "# from sklearn.model_selection import train_test_split\n",
    "# import numpy as np"
   ]
  },
  {
   "cell_type": "code",
   "execution_count": 23,
   "metadata": {
    "collapsed": true
   },
   "outputs": [],
   "source": [
    "# y_true = pd.read_csv(\"./song_features/y_train.csv\")"
   ]
  },
  {
   "cell_type": "code",
   "execution_count": 24,
   "metadata": {
    "collapsed": true
   },
   "outputs": [],
   "source": [
    "# reg = LinearRegression()\n",
    "# reg.fit(tmp2, y_true)\n",
    "# y_pred_ensemble2 = reg.predict(tmp2)\n",
    "# print('Mean Squared Error by Sklearn: %.2f' % mean_squared_error(y_true, y_pred_ensemble2))"
   ]
  },
  {
   "cell_type": "code",
   "execution_count": 27,
   "metadata": {},
   "outputs": [
    {
     "data": {
      "text/plain": [
       "3"
      ]
     },
     "execution_count": 27,
     "metadata": {},
     "output_type": "execute_result"
    }
   ],
   "source": []
  },
  {
   "cell_type": "code",
   "execution_count": null,
   "metadata": {
    "collapsed": true
   },
   "outputs": [],
   "source": []
  }
 ],
 "metadata": {
  "kernelspec": {
   "display_name": "Python 3",
   "language": "python",
   "name": "python3"
  },
  "language_info": {
   "codemirror_mode": {
    "name": "ipython",
    "version": 3
   },
   "file_extension": ".py",
   "mimetype": "text/x-python",
   "name": "python",
   "nbconvert_exporter": "python",
   "pygments_lexer": "ipython3",
   "version": "3.6.3"
  }
 },
 "nbformat": 4,
 "nbformat_minor": 2
}
