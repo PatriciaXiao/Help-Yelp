{
 "cells": [
  {
   "cell_type": "code",
   "execution_count": 1,
   "metadata": {},
   "outputs": [],
   "source": [
    "from collections import defaultdict\n",
    "\n",
    "import numpy as np\n",
    "import scipy as sp\n",
    "import matplotlib.pyplot as plt\n",
    "import pandas as pd\n",
    "\n",
    "# from matplotlib import rcParams\n",
    "# import matplotlib.cm as cm\n",
    "# import matplotlib as mpl\n",
    "\n",
    "from scipy import spatial\n",
    "import timeit\n",
    "from sklearn.metrics import mean_squared_error\n",
    "\n",
    "from sklearn import datasets, linear_model\n",
    "\n",
    "import random"
   ]
  },
  {
   "cell_type": "code",
   "execution_count": 2,
   "metadata": {},
   "outputs": [],
   "source": [
    "X_train = pd.read_csv(\"../feature/X_train.csv\")\n",
    "y_train = pd.read_csv(\"../feature/y_train.csv\")\n"
   ]
  },
  {
   "cell_type": "code",
   "execution_count": 3,
   "metadata": {},
   "outputs": [],
   "source": [
    "X_val = pd.read_csv(\"../feature/X_val.csv\")\n",
    "y_val = pd.read_csv(\"../feature/y_val.csv\")\n",
    "\n",
    "X_test = pd.read_csv(\"../feature/X_test.csv\")"
   ]
  },
  {
   "cell_type": "code",
   "execution_count": 4,
   "metadata": {},
   "outputs": [
    {
     "name": "stdout",
     "output_type": "stream",
     "text": [
      "(200309, 59) \n",
      "\n",
      "Index(['user_id', 'business_id', 'average_stars', 'compliment_cool',\n",
      "       'compliment_cute', 'compliment_funny', 'compliment_hot',\n",
      "       'compliment_list', 'compliment_more', 'compliment_note',\n",
      "       'compliment_photos', 'compliment_plain', 'compliment_profile',\n",
      "       'compliment_writer', 'cool', 'fans', 'funny', 'review_count_x',\n",
      "       'useful', 'date_since', 'attributes_AcceptsInsurance',\n",
      "       'attributes_AgesAllowed', 'attributes_Alcohol', 'attributes_BYOB',\n",
      "       'attributes_BikeParking', 'attributes_BusinessAcceptsBitcoin',\n",
      "       'attributes_BusinessAcceptsCreditCards', 'attributes_ByAppointmentOnly',\n",
      "       'attributes_Caters', 'attributes_CoatCheck', 'attributes_Corkage',\n",
      "       'attributes_DogsAllowed', 'attributes_DriveThru',\n",
      "       'attributes_GoodForDancing', 'attributes_GoodForKids',\n",
      "       'attributes_HappyHour', 'attributes_HasTV', 'attributes_NoiseLevel',\n",
      "       'attributes_Open24Hours', 'attributes_OutdoorSeating',\n",
      "       'attributes_RestaurantsAttire', 'attributes_RestaurantsCounterService',\n",
      "       'attributes_RestaurantsDelivery', 'attributes_RestaurantsGoodForGroups',\n",
      "       'attributes_RestaurantsPriceRange2',\n",
      "       'attributes_RestaurantsReservations',\n",
      "       'attributes_RestaurantsTableService', 'attributes_RestaurantsTakeOut',\n",
      "       'attributes_Smoking', 'attributes_WheelchairAccessible',\n",
      "       'attributes_WiFi', 'is_open', 'review_count_y', 'stars', 'state',\n",
      "       'cate_Restaurants', 'cate_Entertainment', 'cate_Travel', 'city'],\n",
      "      dtype='object')\n"
     ]
    }
   ],
   "source": [
    "X_train = pd.concat([X_train, X_val], ignore_index=True)\n",
    "y_train = pd.concat([y_train, y_val], ignore_index=True)\n",
    "\n",
    "print(X_train.shape, '\\n')\n",
    "print(X_train.columns)"
   ]
  },
  {
   "cell_type": "code",
   "execution_count": 5,
   "metadata": {},
   "outputs": [
    {
     "name": "stdout",
     "output_type": "stream",
     "text": [
      "Index(['user_id', 'business_id', 'average_stars', 'compliment_cool',\n",
      "       'compliment_cute', 'compliment_funny', 'compliment_hot',\n",
      "       'compliment_list', 'compliment_more', 'compliment_note',\n",
      "       'compliment_photos', 'compliment_plain', 'compliment_profile',\n",
      "       'compliment_writer', 'cool', 'fans', 'funny', 'review_count_x',\n",
      "       'useful', 'date_since', 'attributes_AcceptsInsurance',\n",
      "       'attributes_AgesAllowed', 'attributes_Alcohol', 'attributes_BYOB',\n",
      "       'attributes_BikeParking', 'attributes_BusinessAcceptsBitcoin',\n",
      "       'attributes_BusinessAcceptsCreditCards', 'attributes_ByAppointmentOnly',\n",
      "       'attributes_Caters', 'attributes_CoatCheck', 'attributes_Corkage',\n",
      "       'attributes_DogsAllowed', 'attributes_DriveThru',\n",
      "       'attributes_GoodForDancing', 'attributes_GoodForKids',\n",
      "       'attributes_HappyHour', 'attributes_HasTV', 'attributes_NoiseLevel',\n",
      "       'attributes_Open24Hours', 'attributes_OutdoorSeating',\n",
      "       'attributes_RestaurantsAttire', 'attributes_RestaurantsCounterService',\n",
      "       'attributes_RestaurantsDelivery', 'attributes_RestaurantsGoodForGroups',\n",
      "       'attributes_RestaurantsPriceRange2',\n",
      "       'attributes_RestaurantsReservations',\n",
      "       'attributes_RestaurantsTableService', 'attributes_RestaurantsTakeOut',\n",
      "       'attributes_Smoking', 'attributes_WheelchairAccessible',\n",
      "       'attributes_WiFi', 'is_open', 'review_count_y', 'stars', 'state',\n",
      "       'cate_Restaurants', 'cate_Entertainment', 'cate_Travel', 'city'],\n",
      "      dtype='object')\n"
     ]
    }
   ],
   "source": [
    "# print(X_train.shape, '\\n')\n",
    "print(X_train.columns)\n",
    "\n",
    "# pd.options.display.max_columns = X_train.shape[1]\n",
    "# X_train.describe()"
   ]
  },
  {
   "cell_type": "code",
   "execution_count": 6,
   "metadata": {},
   "outputs": [
    {
     "name": "stdout",
     "output_type": "stream",
     "text": [
      "['attributes_GoodForKids', 'attributes_WheelchairAccessible', 'attributes_Corkage', 'attributes_ByAppointmentOnly', 'attributes_RestaurantsDelivery', 'stars', 'cool', 'compliment_cute', 'attributes_DogsAllowed', 'cate_Restaurants', 'compliment_list', 'attributes_AgesAllowed', 'attributes_Alcohol', 'attributes_HappyHour', 'compliment_note', 'attributes_AcceptsInsurance', 'attributes_CoatCheck', 'compliment_hot', 'attributes_RestaurantsReservations', 'review_count_y', 'attributes_GoodForDancing', 'attributes_BusinessAcceptsCreditCards', 'attributes_RestaurantsAttire', 'attributes_BusinessAcceptsBitcoin', 'attributes_NoiseLevel', 'useful', 'attributes_RestaurantsTableService', 'attributes_DriveThru', 'is_open', 'attributes_Open24Hours', 'compliment_funny', 'compliment_cool', 'review_count_x', 'funny', 'average_stars', 'compliment_writer', 'attributes_RestaurantsGoodForGroups', 'cate_Travel', 'attributes_HasTV', 'attributes_RestaurantsPriceRange2', 'attributes_OutdoorSeating', 'attributes_RestaurantsCounterService', 'attributes_RestaurantsTakeOut', 'fans', 'compliment_plain', 'attributes_BikeParking', 'cate_Entertainment', 'compliment_more', 'attributes_WiFi', 'city', 'compliment_photos', 'attributes_Smoking', 'compliment_profile', 'attributes_Caters']\n"
     ]
    }
   ],
   "source": [
    "drop_cols = [\n",
    "    'user_id', 'business_id',\n",
    "    'date_since',\n",
    "    'attributes_BYOB',\n",
    "    'state'\n",
    "]\n",
    "\n",
    "X_cols = list(set(X_train.columns.tolist()) - set(drop_cols))\n",
    "\n",
    "# use_cols = [\n",
    "#     'average_stars',\n",
    "#     'stars'\n",
    "# ]\n",
    "\n",
    "# X_cols = use_cols\n",
    "\n",
    "print(X_cols)"
   ]
  },
  {
   "cell_type": "code",
   "execution_count": 7,
   "metadata": {},
   "outputs": [],
   "source": [
    "# def rearrange_filter_data(X_df, y_df, user_cv, biz_cv, X_cols):\n",
    "    \n",
    "#     X_temp = X_df[(X_df['review_count_x']>=user_cv) & (X_df['review_count_y']>=biz_cv)]\n",
    "#     y_temp = y_df.iloc[X_temp.index.values]\n",
    "#     #print(X_temp.index == y_temp.index)\n",
    "    \n",
    "#     X_arr = X_temp[X_cols].apply(lambda x: (x - np.min(x)) / (np.max(x) - np.min(x)) if np.max(x) != np.min(x) else 0.0).values\n",
    "#     y_arr = y_temp['stars'].values\n",
    "    \n",
    "#     return X_arr, y_arr\n",
    "    \n",
    "# def filter_data(X_df, y_df, user_cv, biz_cv):\n",
    "    \n",
    "#     X_temp = X_df[(X_df['review_count_x']>=user_cv) & (X_df['review_count_y']>=biz_cv)]\n",
    "#     y_temp = y_df.iloc[X_temp.index.values]\n",
    "#     #print(X_temp.index == y_temp.index)\n",
    "    \n",
    "#     X_temp = X_temp.reset_index(drop=True)\n",
    "#     y_temp = y_temp.reset_index(drop=True)\n",
    "    \n",
    "#     dt = {}\n",
    "#     min_len = y_temp.shape[0]\n",
    "#     rs = [1.0, 2.0, 3.0, 4.0, 5.0] # do not consider 0.0\n",
    "#     for r in rs:\n",
    "#         temp = y_temp.index[y_temp['stars'] == r].values.tolist()\n",
    "#         if len(temp) < min_len:\n",
    "#             min_len = len(temp)\n",
    "#         dt[r] = temp\n",
    "#         #print(len(dt[r]))\n",
    "    \n",
    "#     ls = []\n",
    "#     ratio = 0.8\n",
    "#     take = round(ratio * min_len)\n",
    "#     for r in rs:\n",
    "#         temp = random.sample(dt[r], take)\n",
    "#         #print(len(dt[r]), len(temp))\n",
    "#         ls = ls + temp\n",
    "        \n",
    "#     indices = np.array(ls)\n",
    "#     #print(indices)\n",
    "    \n",
    "#     X_temp = X_temp.iloc[indices] # pandas dataframe\n",
    "#     y_temp = y_temp.iloc[indices] # pandas dataframe\n",
    "#     #print(X_temp.index == y_temp.index)\n",
    "#     return X_temp, y_temp\n",
    "    \n",
    "def rearrange_data(X_df, y_df, X_cols):\n",
    "    \n",
    "    #X_arr = X_df[X_cols].apply(lambda x: (x - np.min(x)) / (np.max(x) - np.min(x)) if np.max(x) != np.min(x) else 0.0).values\n",
    "    X_arr = X_df[X_cols]\n",
    "    \n",
    "    y_arr = y_df['stars'].values\n",
    "    \n",
    "    return X_arr, y_arr\n",
    "    "
   ]
  },
  {
   "cell_type": "code",
   "execution_count": 8,
   "metadata": {},
   "outputs": [
    {
     "name": "stdout",
     "output_type": "stream",
     "text": [
      "(200309, 59) <class 'pandas.core.frame.DataFrame'> (200309, 54)\n",
      "(200309, 1) <class 'numpy.ndarray'> (200309,)\n"
     ]
    },
    {
     "data": {
      "text/plain": [
       "(array([12972.,     0., 17215.,     0.,     0., 35449.,     0., 67773.,\n",
       "            0., 66900.]),\n",
       " array([1. , 1.4, 1.8, 2.2, 2.6, 3. , 3.4, 3.8, 4.2, 4.6, 5. ]),\n",
       " <a list of 10 Patch objects>)"
      ]
     },
     "execution_count": 8,
     "metadata": {},
     "output_type": "execute_result"
    },
    {
     "data": {
      "image/png": "[encoded data removed]",
      "text/plain": [
       "<matplotlib.figure.Figure at 0x10ba364a8>"
      ]
     },
     "metadata": {},
     "output_type": "display_data"
    }
   ],
   "source": [
    "# X_temp, y_temp = filter_data(X_train, y_train, 500, 500)\n",
    "# X, y           = rearrange_data(X_temp, y_temp, X_cols)\n",
    "X, y           = rearrange_data(X_train, y_train, X_cols)\n",
    "\n",
    "print(X_train.shape, type(X), X.shape)\n",
    "print(y_train.shape, type(y), y.shape)\n",
    "\n",
    "plt.hist(y)"
   ]
  },
  {
   "cell_type": "code",
   "execution_count": 9,
   "metadata": {},
   "outputs": [],
   "source": [
    "# Create linear regression object\n",
    "regr = linear_model.LinearRegression(normalize=True)"
   ]
  },
  {
   "cell_type": "code",
   "execution_count": 10,
   "metadata": {},
   "outputs": [
    {
     "name": "stderr",
     "output_type": "stream",
     "text": [
      "/Users/phoenix/anaconda3/envs/.env/lib/python3.6/site-packages/sklearn/linear_model/base.py:485: RuntimeWarning: internal gelsd driver lwork query error, required iwork dimension not returned. This is likely the result of LAPACK bug 0038, fixed in LAPACK 3.2.2 (released July 21, 2010). Falling back to 'gelss' driver.\n",
      "  linalg.lstsq(X, y)\n"
     ]
    },
    {
     "data": {
      "text/plain": [
       "LinearRegression(copy_X=True, fit_intercept=True, n_jobs=None, normalize=True)"
      ]
     },
     "execution_count": 10,
     "metadata": {},
     "output_type": "execute_result"
    }
   ],
   "source": [
    "# Train the model using the training sets\n",
    "regr.fit(X, y)"
   ]
  },
  {
   "cell_type": "code",
   "execution_count": 11,
   "metadata": {},
   "outputs": [],
   "source": [
    "def run(X_df, y_df):\n",
    "    \n",
    "    X, y = rearrange_data(X_df, y_df, X_cols)\n",
    "    \n",
    "    expected = y\n",
    "    predicted = regr.predict(X)\n",
    "\n",
    "    rmse = np.sqrt(mean_squared_error(expected, predicted))\n",
    "    print('rmse:', rmse)\n",
    "\n",
    "    plt.figure(1)\n",
    "    plt.subplot(211)\n",
    "    plt.hist(predicted)\n",
    "    plt.subplot(212)\n",
    "    plt.hist(expected)\n"
   ]
  },
  {
   "cell_type": "code",
   "execution_count": 12,
   "metadata": {},
   "outputs": [
    {
     "name": "stdout",
     "output_type": "stream",
     "text": [
      "rmse: 1.1801461309448003\n"
     ]
    },
    {
     "data": {
      "image/png": "[encoded data removed]",
      "text/plain": [
       "<matplotlib.figure.Figure at 0x10a8c9048>"
      ]
     },
     "metadata": {},
     "output_type": "display_data"
    }
   ],
   "source": [
    "run(X_train,y_train)"
   ]
  },
  {
   "cell_type": "code",
   "execution_count": 13,
   "metadata": {},
   "outputs": [
    {
     "name": "stdout",
     "output_type": "stream",
     "text": [
      "rmse: 1.2639615474407975\n"
     ]
    },
    {
     "data": {
      "image/png": "[encoded data removed]",
      "text/plain": [
       "<matplotlib.figure.Figure at 0x10a98eef0>"
      ]
     },
     "metadata": {},
     "output_type": "display_data"
    }
   ],
   "source": [
    "run(X_val,y_val)"
   ]
  },
  {
   "cell_type": "code",
   "execution_count": 12,
   "metadata": {},
   "outputs": [],
   "source": [
    "X = X_test[X_cols]\n",
    "y_pd = regr.predict(X)"
   ]
  },
  {
   "cell_type": "code",
   "execution_count": 120,
   "metadata": {},
   "outputs": [],
   "source": [
    "df = pd.DataFrame(y_pd, columns = {'stars'})"
   ]
  },
  {
   "cell_type": "code",
   "execution_count": 121,
   "metadata": {},
   "outputs": [],
   "source": [
    "df.to_csv(\"./X_test_output_lr.csv\", index_label='index')"
   ]
  },
  {
   "cell_type": "code",
   "execution_count": null,
   "metadata": {},
   "outputs": [],
   "source": []
  }
 ],
 "metadata": {
  "kernelspec": {
   "display_name": "Python 3",
   "language": "python",
   "name": "python3"
  },
  "language_info": {
   "codemirror_mode": {
    "name": "ipython",
    "version": 3
   },
   "file_extension": ".py",
   "mimetype": "text/x-python",
   "name": "python",
   "nbconvert_exporter": "python",
   "pygments_lexer": "ipython3",
   "version": "3.6.7"
  }
 },
 "nbformat": 4,
 "nbformat_minor": 2
}
