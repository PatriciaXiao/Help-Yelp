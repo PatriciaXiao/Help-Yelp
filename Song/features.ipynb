{
 "cells": [
  {
   "cell_type": "code",
   "execution_count": 1,
   "metadata": {},
   "outputs": [],
   "source": [
    "import pandas as pd"
   ]
  },
  {
   "cell_type": "code",
   "execution_count": 2,
   "metadata": {},
   "outputs": [],
   "source": [
    "user = pd.read_csv(\"../data/users.csv\")\n",
    "business = pd.read_csv(\"../data/business.csv\")"
   ]
  },
  {
   "cell_type": "code",
   "execution_count": 3,
   "metadata": {},
   "outputs": [],
   "source": [
    "def compute_year(x):\n",
    "    return x.split(\"-\")[0]\n",
    "user[\"date_since\"] = user[\"yelping_since\"].apply(compute_year)\n",
    "def compute_elite(x):\n",
    "    if x == None:\n",
    "        return 0\n",
    "    else:\n",
    "        return 1"
   ]
  },
  {
   "cell_type": "code",
   "execution_count": 4,
   "metadata": {
    "scrolled": true
   },
   "outputs": [],
   "source": [
    "cols1 = ['average_stars', 'compliment_cool', 'compliment_cute',\n",
    "       'compliment_funny', 'compliment_hot', 'compliment_list',\n",
    "       'compliment_more', 'compliment_note', 'compliment_photos',\n",
    "       'compliment_plain', 'compliment_profile', 'compliment_writer', 'cool',\n",
    "        'fans', 'funny', 'review_count', 'useful',\n",
    "       'user_id', 'date_since']\n",
    "\n",
    "#cols1 = ['average_stars','user_id']\n",
    "\n",
    "user = user[cols1]\n",
    "    "
   ]
  },
  {
   "cell_type": "code",
   "execution_count": 5,
   "metadata": {},
   "outputs": [],
   "source": [
    "def compute_ages(x): #attributes_AgesAllowed\n",
    "    if x == \"21plus\":\n",
    "        return 1\n",
    "    else:\n",
    "        return 0\n",
    "business[\"attributes_AgesAllowed\"] = business[\"attributes_AgesAllowed\"].apply(compute_ages)\n",
    "def compute_alcohol(x):#attributes_Alcohol\n",
    "    if x == \"full_bar\":\n",
    "        return 0\n",
    "    elif x == \"beer_and_wine\":\n",
    "        return 1\n",
    "    else:\n",
    "        return 2\n",
    "business[\"attributes_Alcohol\"] = business[\"attributes_Alcohol\"].apply(compute_alcohol)\n",
    "def compute_BYOBC(x): #attributes_BYOB\n",
    "    if x == \"yes_free\":\n",
    "        return 0\n",
    "    elif x == \"yes_corkage\":\n",
    "        return 1\n",
    "    elif x == \"no\":\n",
    "        return 2\n",
    "    else:\n",
    "        return 3\n",
    "business[\"attributes_BYOB\"] = business[\"attributes_BYOB\"].apply(compute_BYOBC)\n",
    "\n",
    "def compute_noise(x):#attributes_NoiseLevel\n",
    "    if x == \"average\":\n",
    "        return 0\n",
    "    elif x == \"quiet\":\n",
    "        return 1\n",
    "    elif x == \"loud\":\n",
    "        return 2\n",
    "    elif x == \"very_loud\":\n",
    "        return 3\n",
    "    else:\n",
    "        return 4\n",
    "business[\"attributes_NoiseLevel\"] = business[\"attributes_NoiseLevel\"].apply(compute_noise)\n",
    "def compute_RestaurantsAttire(x):#attributes_RestaurantsAttire\n",
    "    if x == \"casual\":\n",
    "        return 0\n",
    "    elif x == \"dressy\":\n",
    "        return 1\n",
    "    else:\n",
    "        return 2\n",
    "business[\"attributes_RestaurantsAttire\"] = business[\"attributes_RestaurantsAttire\"].apply(compute_RestaurantsAttire)\n",
    "def compute_smoke(x):#attributes_Smoking\n",
    "    if x == \"outdoor\":\n",
    "        return 0\n",
    "    elif x == \"yes\":\n",
    "        return 1\n",
    "    elif x == \"no\":\n",
    "        return 2\n",
    "    else:\n",
    "        return 3\n",
    "business[\"attributes_Smoking\"] = business[\"attributes_Smoking\"].apply(compute_smoke)  \n",
    "def compute_wifi(x):#attributes_WiFi\n",
    "    if x == \"free\":\n",
    "        return 0\n",
    "    elif x == \"no\":\n",
    "        return 1\n",
    "    elif x == \"paid\":\n",
    "        return 2\n",
    "    else:\n",
    "        return 3\n",
    "business[\"attributes_WiFi\"] = business[\"attributes_WiFi\"].apply(compute_wifi)   \n",
    "def compute_city(x):\n",
    "    if x == \"Las Vegas\":\n",
    "        return 0\n",
    "    elif x == \"Phoenix\":\n",
    "        return 1\n",
    "    elif x == \"Toronto\":\n",
    "        return 2\n",
    "    elif x == \"Scottsdale\":\n",
    "        return 3\n",
    "    elif x == \"Charlotte\":\n",
    "        return 4\n",
    "    elif x == \"Pittsburgh\":\n",
    "        return 5\n",
    "    elif x == \"Henderson\":\n",
    "        return 6\n",
    "    elif x == \"Tempe\":\n",
    "        return 7\n",
    "    elif x == \"Chandler\":\n",
    "        return 8\n",
    "    elif x == \"Mesa\":\n",
    "        return 9\n",
    "    elif x == \"Gilbert\":\n",
    "        return 10\n",
    "    elif x == \"Cleveland\":\n",
    "        return 11\n",
    "    elif x == \"Montréal\":\n",
    "        return 12\n",
    "    elif x == \"Madison\":\n",
    "        return 13\n",
    "    elif x == \"Glendale\":\n",
    "        return 14\n",
    "    elif x == \"Peoria\":\n",
    "        return 15\n",
    "    elif x == \"North Las Vegas\":\n",
    "        return 16\n",
    "    else:\n",
    "        return 17\n",
    "business[\"city\"] = business[\"city\"].apply(compute_city)  \n",
    "def compute_state(x):\n",
    "    if x == \"AZ\":\n",
    "        return 0\n",
    "    elif x == \"NV\":\n",
    "        return 1\n",
    "    elif x == \"ON\":\n",
    "        return 2\n",
    "    elif x == \"NC\":\n",
    "        return 3\n",
    "    elif x == \"PA\":\n",
    "        return 4\n",
    "    elif x == \"OH\":\n",
    "        return 5\n",
    "    elif x == \"WI\":\n",
    "        return 6\n",
    "    elif x == \"QC\":\n",
    "        return 7\n",
    "    else:\n",
    "        return 8\n",
    "business[\"state\"] = business[\"state\"].apply(compute_city)  "
   ]
  },
  {
   "cell_type": "code",
   "execution_count": 6,
   "metadata": {},
   "outputs": [],
   "source": [
    "# business[\"cate_Chinese\"] = business[\"categories\"].str.contains(\"Chinese\")\n",
    "# business[\"cate_Mexican\"] = business[\"categories\"].str.contains(\"Mexican\")\n",
    "# business[\"cate_Thai\"] = business[\"categories\"].str.contains(\"Thai\")\n",
    "business[\"cate_Restaurants\"] = business[\"categories\"].str.contains(\"Restaurants\")\n",
    "business[\"cate_Entertainment\"] = business[\"categories\"].str.contains(\"Entertainment\")\n",
    "business[\"cate_Travel\"] = business[\"categories\"].str.contains(\"Travel\")\n",
    "business[\"cate_Repair\"] = business[\"categories\"].str.contains(\"Repair\")"
   ]
  },
  {
   "cell_type": "code",
   "execution_count": 7,
   "metadata": {
    "scrolled": true
   },
   "outputs": [],
   "source": [
    "cols2 = ['attributes_AcceptsInsurance',\n",
    "       'attributes_AgesAllowed', 'attributes_Alcohol',\n",
    "       'attributes_BYOB',\n",
    "       'attributes_BikeParking', 'attributes_BusinessAcceptsBitcoin',\n",
    "       'attributes_BusinessAcceptsCreditCards', \n",
    "       'attributes_ByAppointmentOnly', 'attributes_Caters',\n",
    "       'attributes_CoatCheck', 'attributes_Corkage',\n",
    "        'attributes_DogsAllowed',\n",
    "       'attributes_DriveThru', 'attributes_GoodForDancing',\n",
    "       'attributes_GoodForKids', \n",
    "        'attributes_HappyHour',\n",
    "       'attributes_HasTV',  'attributes_NoiseLevel',\n",
    "       'attributes_Open24Hours', 'attributes_OutdoorSeating',\n",
    "       'attributes_RestaurantsAttire', 'attributes_RestaurantsCounterService',\n",
    "       'attributes_RestaurantsDelivery', 'attributes_RestaurantsGoodForGroups',\n",
    "       'attributes_RestaurantsPriceRange2',\n",
    "       'attributes_RestaurantsReservations',\n",
    "       'attributes_RestaurantsTableService', 'attributes_RestaurantsTakeOut',\n",
    "       'attributes_Smoking', 'attributes_WheelchairAccessible',\n",
    "       'attributes_WiFi', 'business_id', \n",
    "        'is_open','review_count', 'stars','state','cate_Restaurants','cate_Entertainment',\n",
    "        'cate_Travel','city']\n",
    "#cols2 = ['stars','business_id']\n",
    "business = business[cols2]"
   ]
  },
  {
   "cell_type": "code",
   "execution_count": 8,
   "metadata": {},
   "outputs": [],
   "source": [
    "business = business.fillna(-1)\n",
    "for i in cols2:\n",
    "    if i == 'business_id':\n",
    "        pass\n",
    "    elif business[i].dtype == 'object':\n",
    "        business[i] = business[i].astype(\"int64\") "
   ]
  },
  {
   "cell_type": "code",
   "execution_count": 9,
   "metadata": {},
   "outputs": [
    {
     "name": "stdout",
     "output_type": "stream",
     "text": [
      "(150232, 9)\n",
      "(50077, 4)\n",
      "(50078, 2)\n"
     ]
    }
   ],
   "source": [
    "train = pd.read_csv(\"../data/train_reviews.csv\")\n",
    "validation = pd.read_csv(\"../data/validate_queries.csv\")\n",
    "test = pd.read_csv(\"../data/test_queries.csv\")\n",
    "print (train.shape)\n",
    "print (validation.shape)\n",
    "print (test.shape)"
   ]
  },
  {
   "cell_type": "code",
   "execution_count": 10,
   "metadata": {},
   "outputs": [],
   "source": [
    "y_train = pd.DataFrame(train[\"stars\"])\n",
    "X_train = train[[\"user_id\",\"business_id\"]]\n",
    "y_val = pd.DataFrame(validation[\"stars\"])\n",
    "X_val = validation[[\"user_id\",\"business_id\"]]\n",
    "X_test = test[[\"user_id\",\"business_id\"]]"
   ]
  },
  {
   "cell_type": "code",
   "execution_count": 11,
   "metadata": {},
   "outputs": [
    {
     "name": "stdout",
     "output_type": "stream",
     "text": [
      "X_train (150232, 59)\n",
      "X_val (50077, 59)\n",
      "X_test (50078, 59)\n"
     ]
    }
   ],
   "source": [
    "X_train = X_train.merge(user,on=[\"user_id\"])\n",
    "X_train = X_train.merge(business,on=[\"business_id\"])\n",
    "X_val = X_val.merge(user,on=[\"user_id\"])\n",
    "X_val = X_val.merge(business,on=[\"business_id\"])\n",
    "X_test = X_test.merge(user,on=[\"user_id\"])\n",
    "X_test = X_test.merge(business,on=[\"business_id\"])\n",
    "print (\"X_train\",X_train.shape)\n",
    "print (\"X_val\",X_val.shape)\n",
    "print (\"X_test\",X_test.shape)"
   ]
  },
  {
   "cell_type": "code",
   "execution_count": 12,
   "metadata": {},
   "outputs": [],
   "source": [
    "X_train.to_csv(\"../feature/X_train.csv\",index=None)\n",
    "y_train.to_csv(\"../feature/y_train.csv\",index=None)\n",
    "X_val.to_csv(\"../feature/X_val.csv\",index=None)\n",
    "y_val.to_csv(\"../feature/y_val.csv\",index=None)\n",
    "X_test.to_csv(\"../feature/X_test.csv\",index=None)"
   ]
  },
  {
   "cell_type": "code",
   "execution_count": null,
   "metadata": {},
   "outputs": [],
   "source": []
  },
  {
   "cell_type": "code",
   "execution_count": null,
   "metadata": {},
   "outputs": [],
   "source": []
  },
  {
   "cell_type": "code",
   "execution_count": null,
   "metadata": {},
   "outputs": [],
   "source": []
  },
  {
   "cell_type": "code",
   "execution_count": null,
   "metadata": {},
   "outputs": [],
   "source": []
  },
  {
   "cell_type": "code",
   "execution_count": null,
   "metadata": {},
   "outputs": [],
   "source": []
  }
 ],
 "metadata": {
  "kernelspec": {
   "display_name": "Python 3",
   "language": "python",
   "name": "python3"
  },
  "language_info": {
   "codemirror_mode": {
    "name": "ipython",
    "version": 3
   },
   "file_extension": ".py",
   "mimetype": "text/x-python",
   "name": "python",
   "nbconvert_exporter": "python",
   "pygments_lexer": "ipython3",
   "version": "3.7.0"
  }
 },
 "nbformat": 4,
 "nbformat_minor": 2
}
